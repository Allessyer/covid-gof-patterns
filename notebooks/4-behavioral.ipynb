{
 "cells": [
  {
   "cell_type": "markdown",
   "metadata": {},
   "source": [
    "This is a tutorial notebook on object-oriented software design, prepared for the Foundations of Software Engineering (FSE v2020.1, https://github.com/adasegroup/FSE2020_seminars) at Skoltech (http://skoltech.ru).\n",
    "\n",
    "Copyright 2020 by Alexey Artemov and ADASE Lab. "
   ]
  },
  {
   "cell_type": "markdown",
   "metadata": {},
   "source": [
    "# FSE-08: Object-Oriented Software Design: Behavioral Design Patterns"
   ]
  },
  {
   "cell_type": "markdown",
   "metadata": {},
   "source": [
    "## 1. State: change behavior when changing internal state"
   ]
  },
  {
   "cell_type": "markdown",
   "metadata": {},
   "source": [
    "When you need to represent an object that may be in a number of distinct states, as if there were a variety of different objects.\n",
    "\n",
    "**Why would we like to have a stateful object?**\n",
    "\n",
    "Acceptable reasons to use a State pattern include:\n",
    "\n",
    " - Access to a \"heavy\" shared resource (e.g. a database), preferred that an access to the resource will be requested from multiple, disparate parts of the system.\n",
    " - \"Logging class rationale\": heavy re-use of the same class instance by lots of callers \n",
    " > A Singleton can be used instead of a single instance of a class because a logging class usually needs to be used over and over again ad nauseam by every class in a project. If every class uses this logging class, dependency injection becomes cumbersome. ([When should I use the singleton?](https://stackoverflow.com/questions/228164/on-design-patterns-when-should-i-use-the-singleton))\n",
    " \n",
    " \n",
    "\n",
    "**Example implementation:**\n",
    "\n",
    "\n",
    "```python\n",
    "class ATMMachine:\n",
    "    def __init__(self, amount):\n",
    "        self._amount = amount\n",
    "        self._state = NoCash(self) if amount == 0 else Working(self)\n",
    "    \n",
    "    def set_state(self, state):\n",
    "        self._state = state\n",
    "        \n",
    "    def get_amount(self): \n",
    "        return self._amount\n",
    "    \n",
    "    def set_amount(self, amount):\n",
    "        self._amount = amount\n",
    "    \n",
    "    def withdraw(self, amount):\n",
    "        self._state.withdraw(amount)\n",
    "    \n",
    "    def refill(self, amount):\n",
    "        self._state.refill(amount)\n",
    "\n",
    "\n",
    "from abc import ABC, abstractmethod\n",
    "\n",
    "class State(ABC):\n",
    "    def __init__(self, atm):\n",
    "        self._atm = atm\n",
    "\n",
    "    @abstractmethod\n",
    "    def withdraw(self, amount):\n",
    "        pass\n",
    "    \n",
    "    @abstractmethod\n",
    "    def refill(self, amount):\n",
    "        pass\n",
    "\n",
    "\n",
    "class NoCash(State):\n",
    "    def withdraw(self, amount):\n",
    "        print('no cash')\n",
    "    \n",
    "    def refill(self, amount):\n",
    "        self._atm.set_amount(self._atm.get_amount() + amount)\n",
    "        self._atm.set_state(\n",
    "            Working(self._atm)\n",
    "        )\n",
    "\n",
    "\n",
    "class Working(State):\n",
    "    def withdraw(self, amount):\n",
    "        if 0 < self._atm.get_amount() <= amount:\n",
    "            amount_to_withdraw = amount - self._atm.get_amount()\n",
    "        else:\n",
    "            amount_to_withdraw = amount\n",
    "        \n",
    "        self._atm.set_amount(self._atm.get_amount() - amount_to_withdraw)\n",
    "        if self._atm.get_amount() == 0:\n",
    "            self._atm.set_state(\n",
    "                NoCash(self._atm)\n",
    "            )\n",
    "\n",
    "    def refill(self, amount):\n",
    "        self._atm.set_amount(self._atm.get_amount() + amount)\n",
    "\n",
    "            \n",
    "# Usage:\n",
    "model = ATM(amount=1000)\n",
    "model.withdraw(500)\n",
    "model.withdraw(500)  # State -> NoCash\n",
    "model.withdraw(100)\n",
    "model.refill(100)    # State -> Working again\n",
    "```"
   ]
  },
  {
   "cell_type": "markdown",
   "metadata": {},
   "source": [
    "**Task:** \n",
    "1. Explain where can a State pattern be used within the virus spread modelling system.\n",
    "2. Implement a State pattern with the Person class, modeling the infection/recovery chain."
   ]
  },
  {
   "cell_type": "code",
   "execution_count": null,
   "metadata": {},
   "outputs": [],
   "source": []
  },
  {
   "cell_type": "markdown",
   "metadata": {},
   "source": [
    "---"
   ]
  },
  {
   "cell_type": "markdown",
   "metadata": {},
   "source": [
    "## 2. Observer"
   ]
  },
  {
   "cell_type": "markdown",
   "metadata": {},
   "source": [
    "## 3. Template method"
   ]
  },
  {
   "cell_type": "markdown",
   "metadata": {},
   "source": [
    "## 4. Strategy"
   ]
  },
  {
   "cell_type": "code",
   "execution_count": null,
   "metadata": {},
   "outputs": [],
   "source": []
  }
 ],
 "metadata": {
  "kernelspec": {
   "display_name": "Python 3",
   "language": "python",
   "name": "python3"
  },
  "language_info": {
   "codemirror_mode": {
    "name": "ipython",
    "version": 3
   },
   "file_extension": ".py",
   "mimetype": "text/x-python",
   "name": "python",
   "nbconvert_exporter": "python",
   "pygments_lexer": "ipython3",
   "version": "3.7.2"
  }
 },
 "nbformat": 4,
 "nbformat_minor": 2
}
