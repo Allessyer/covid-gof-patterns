{
 "cells": [
  {
   "cell_type": "markdown",
   "metadata": {},
   "source": [
    "This is a tutorial notebook on object-oriented software design, prepared for the Foundations of Software Engineering (FSE v2020.1, https://github.com/adasegroup/FSE2020_seminars) at Skoltech (http://skoltech.ru).\n",
    "\n",
    "Copyright 2020 by Alexey Artemov and ADASE Lab. "
   ]
  },
  {
   "cell_type": "markdown",
   "metadata": {},
   "source": [
    "# FSE-08: Object-Oriented Software Design"
   ]
  },
  {
   "cell_type": "markdown",
   "metadata": {},
   "source": [
    "The purpose of this practical is to give an introduction into object-oriented software design. You will learn to:\n",
    " - Formulate real-world problems in object-oriented terms\n",
    " - Use Python classes to implement the designed models"
   ]
  },
  {
   "cell_type": "markdown",
   "metadata": {},
   "source": [
    "### Legend"
   ]
  },
  {
   "cell_type": "markdown",
   "metadata": {},
   "source": [
    "In these frightening times, it is of utmost importance to be able to model the spread of various viruses. Our government has hired your company to create a flexible computational model for the spread of the most dangerous viruses, the Virus Spread Modelling System VSMS-20.\n",
    "\n",
    "In this task, your goal is to design an implement models of these viruses:\n",
    "\n",
    " - Seasonal flu virus\n",
    " - SARS-CoV-2\n",
    " - Cholera \n",
    " \n",
    "The goal is to be able to perform simulations to assess efficiency of public policymaking aiming to save lives."
   ]
  },
  {
   "cell_type": "markdown",
   "metadata": {},
   "source": [
    "**What do we need to model?**"
   ]
  },
  {
   "cell_type": "markdown",
   "metadata": {},
   "source": [
    "In this design, we need to model the following domain entities as objects:\n",
    " 1. Viruses and infections, responsible for infecting persons.\n",
    " 2. Persons, responsible for being infected, transmitting infections.\n",
    " 3. The state/government, responsible for healthcare policymaking.\n",
    " 4. Hospitals, responsible for treating persons and maybe also performing tests.\n",
    " \n",
    "We need to model the following processes:\n",
    " 1. Person getting infected by the virus.\n",
    " 2. Person going through a number of states (e.g. healthy - asymptomatic infected - symptomatic infected - recovered).\n",
    " 3. Person getting tested for a speficic type of virus.\n",
    " 4. Person getting hospitalized.\n",
    " 5. Hospital figuring out the treatment for a person based on tests.\n",
    " 6. Government checking for the number of positive tests.\n",
    " 7. Government establishing a policy (e.g., social distancing, full/partial lockdown, or mandatory wearing masks).\n",
    "\n",
    "We assume the following environmental constraints:\n",
    " - Persons cannot be born during the course of the simulation (but may become dead)\n",
    " - Persons may or may not obey the policies of the government\n",
    " - The government does not penalize persons for not obeying the policies"
   ]
  },
  {
   "cell_type": "markdown",
   "metadata": {},
   "source": [
    "**The purpose of this part of the practical** is to figure out the preliminary design of such a system. "
   ]
  },
  {
   "cell_type": "markdown",
   "metadata": {},
   "source": [
    "### 1. Model viruses/infections"
   ]
  },
  {
   "cell_type": "markdown",
   "metadata": {},
   "source": [
    "#### 1. Define the abstract class `AbstractVirus` with a method `infect`. \n",
    " - model the virus contagiousness "
   ]
  },
  {
   "cell_type": "code",
   "execution_count": 44,
   "metadata": {},
   "outputs": [],
   "source": [
    "from abc import ABC, abstractmethod"
   ]
  },
  {
   "cell_type": "code",
   "execution_count": 45,
   "metadata": {},
   "outputs": [],
   "source": [
    "class AbstractVirus(ABC):\n",
    "    @abstractmethod\n",
    "    def infect(self, person):\n",
    "        pass"
   ]
  },
  {
   "cell_type": "code",
   "execution_count": 21,
   "metadata": {},
   "outputs": [],
   "source": [
    "class SeasonalFluVirus(AbstractVirus):\n",
    "    def infect(self, person):\n",
    "        pass"
   ]
  },
  {
   "cell_type": "code",
   "execution_count": 22,
   "metadata": {},
   "outputs": [],
   "source": [
    "class SARSCoV2(AbstractVirus):\n",
    "    def infect(self, person):\n",
    "        pass"
   ]
  },
  {
   "cell_type": "code",
   "execution_count": 24,
   "metadata": {},
   "outputs": [],
   "source": [
    "class Cholera(AbstractVirus):\n",
    "    def infect(self, person):\n",
    "        pass"
   ]
  },
  {
   "cell_type": "markdown",
   "metadata": {},
   "source": [
    "### 2. Model a person"
   ]
  },
  {
   "cell_type": "markdown",
   "metadata": {},
   "source": [
    "**Task 2.1.:** \n",
    " 1. Use abstraction to identify the possible fields that are relevant to the epidemiologic context.\n",
    " 2. Create interfaces for methods describing person's basic daily activities (e.g., morning trip from home to work, afternoon work, evening trip from work to home, and nightly sleep)\n",
    " 3. Create interfaces for methods describing person's basic interactions. \n",
    " 4. Create implementations for functions where they are obvious."
   ]
  },
  {
   "cell_type": "code",
   "execution_count": 60,
   "metadata": {},
   "outputs": [],
   "source": [
    "class Person:\n",
    "    def __init__(self):\n",
    "        self._viruses = []\n",
    "        self._antibodies = []\n",
    "        self._temperature = None\n",
    "        self._age = None\n",
    "    \n",
    "    def morning_actions(self):\n",
    "        pass\n",
    "\n",
    "    def day_actions(self):\n",
    "        pass\n",
    "\n",
    "    def evening_actions(self):\n",
    "        pass\n",
    "\n",
    "    def night_actions(self):\n",
    "        pass\n",
    "\n",
    "    def interact(self, other):\n",
    "        pass\n",
    "\n",
    "    def get_virus(self, virus):\n",
    "        self._viruses.append(virus)"
   ]
  },
  {
   "cell_type": "markdown",
   "metadata": {},
   "source": [
    "### 3. Model of a hospital"
   ]
  },
  {
   "cell_type": "markdown",
   "metadata": {},
   "source": [
    "**Task 3.1.:** \n",
    " 1. Use abstraction to identify the possible Hospital fields that are relevant to the epidemiologic context.\n",
    " 2. Create interfaces for methods responsible for Hospital basic daily activities (e.g., identifying type of disease and treating patients).\n",
    " 3. Create implementations for functions where they are obvious."
   ]
  },
  {
   "cell_type": "code",
   "execution_count": 63,
   "metadata": {},
   "outputs": [],
   "source": [
    "class Hospital:\n",
    "    def __init__(self):\n",
    "        self._capacity = None\n",
    "        self._persons = []\n",
    "    \n",
    "    def treat_person(self, person):\n",
    "        pass\n",
    "    \n",
    "    def identify_disease(self, person: Person) -> AbstractVirus:\n",
    "        pass"
   ]
  },
  {
   "cell_type": "markdown",
   "metadata": {},
   "source": [
    "### 4. Model of the government"
   ]
  },
  {
   "cell_type": "markdown",
   "metadata": {},
   "source": [
    "**Task 4.1.:** \n",
    " 1. Use abstraction to identify the possible Government fields that are relevant to the epidemiologic context.\n",
    " 2. Create interfaces for methods responsible for Government basic daily activities (e.g., identifying type of situation and issuing policies).\n",
    " 3. Create implementations for functions where they are obvious."
   ]
  },
  {
   "cell_type": "code",
   "execution_count": 66,
   "metadata": {},
   "outputs": [],
   "source": [
    "class Government:\n",
    "    def __init__(self):\n",
    "        pass\n",
    "    \n",
    "    def monitor_situation(self):\n",
    "        pass\n",
    "    \n",
    "    def issue_policy(self):\n",
    "        pass"
   ]
  },
  {
   "cell_type": "markdown",
   "metadata": {},
   "source": [
    "### 5. Model the world and interaction between persons"
   ]
  },
  {
   "cell_type": "markdown",
   "metadata": {},
   "source": [
    "The basic algorithm works on a daily basis.\n",
    " 1. The State counts positive/negative tests from yesterday, decides if they need to introduce the new policies/restrictions.\n",
    " 2. The hospitals treat patients.\n",
    " 3. The new tests are made by random persons and for all persons in hospitals.\n",
    " 4. People do their daily activities and interact, possibly infecting each other.\n",
    " 5. "
   ]
  },
  {
   "cell_type": "code",
   "execution_count": 65,
   "metadata": {},
   "outputs": [],
   "source": [
    "def tick_daily():\n",
    "    gov.monitor_situation()\n",
    "    \n",
    "    gov.issue_policy()\n",
    "    \n",
    "    for person in persons:\n",
    "        person.move()\n",
    "    \n",
    "    for person in persons:\n",
    "        for other in persons:\n",
    "            if person is not other and person.position == other.position:\n",
    "                person.interact(other)"
   ]
  },
  {
   "cell_type": "code",
   "execution_count": null,
   "metadata": {},
   "outputs": [],
   "source": []
  },
  {
   "cell_type": "code",
   "execution_count": null,
   "metadata": {},
   "outputs": [],
   "source": []
  },
  {
   "cell_type": "code",
   "execution_count": null,
   "metadata": {},
   "outputs": [],
   "source": []
  },
  {
   "cell_type": "code",
   "execution_count": null,
   "metadata": {},
   "outputs": [],
   "source": []
  },
  {
   "cell_type": "code",
   "execution_count": null,
   "metadata": {},
   "outputs": [],
   "source": []
  },
  {
   "cell_type": "code",
   "execution_count": null,
   "metadata": {},
   "outputs": [],
   "source": []
  },
  {
   "cell_type": "code",
   "execution_count": null,
   "metadata": {},
   "outputs": [],
   "source": []
  },
  {
   "cell_type": "code",
   "execution_count": null,
   "metadata": {},
   "outputs": [],
   "source": []
  },
  {
   "cell_type": "code",
   "execution_count": null,
   "metadata": {},
   "outputs": [],
   "source": []
  }
 ],
 "metadata": {
  "kernelspec": {
   "display_name": "Python 3",
   "language": "python",
   "name": "python3"
  },
  "language_info": {
   "codemirror_mode": {
    "name": "ipython",
    "version": 3
   },
   "file_extension": ".py",
   "mimetype": "text/x-python",
   "name": "python",
   "nbconvert_exporter": "python",
   "pygments_lexer": "ipython3",
   "version": "3.7.2"
  }
 },
 "nbformat": 4,
 "nbformat_minor": 2
}
