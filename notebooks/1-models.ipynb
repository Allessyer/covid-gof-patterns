{
 "cells": [
  {
   "cell_type": "markdown",
   "metadata": {},
   "source": [
    "<font color='red'>\n",
    "    <ul>\n",
    "        <li>update tasks / descriptions of what to do</li>\n",
    "        <li>add illustrations</li>\n",
    "        <li>remove TQDM</li>\n",
    "    </ul>\n",
    "</font>"
   ]
  },
  {
   "cell_type": "markdown",
   "metadata": {},
   "source": [
    "This is a tutorial notebook on object-oriented software design, prepared for the Foundations of Software Engineering (FSE v2020.1, https://github.com/adasegroup/FSE2020_seminars) at Skoltech (http://skoltech.ru).\n",
    "\n",
    "Copyright 2020 by Alexey Artemov and ADASE Lab. "
   ]
  },
  {
   "cell_type": "markdown",
   "metadata": {},
   "source": [
    "# FSE-08: Object-Oriented Software Design"
   ]
  },
  {
   "cell_type": "markdown",
   "metadata": {},
   "source": [
    "The purpose of this practical is to give an introduction into object-oriented software design. You will learn to:\n",
    " - Formulate real-world problems in object-oriented terms\n",
    " - Use Python classes to implement the designed models"
   ]
  },
  {
   "cell_type": "markdown",
   "metadata": {},
   "source": [
    "### Legend"
   ]
  },
  {
   "cell_type": "markdown",
   "metadata": {},
   "source": [
    "In these frightening times, it is of utmost importance to be able to model the spread of various viruses. Our government has hired your company to create a flexible computational model for the spread of the most dangerous viruses, the Virus Spread Modelling System VSMS-20.\n",
    "\n",
    "In this task, your goal is to design an implement models of these viruses:\n",
    "\n",
    " - Seasonal flu virus\n",
    " - SARS-CoV-2\n",
    " - Cholera \n",
    " \n",
    "The goal is to be able to perform simulations to assess efficiency of public policymaking aiming to save lives."
   ]
  },
  {
   "cell_type": "markdown",
   "metadata": {},
   "source": [
    "**What do we need to model?**"
   ]
  },
  {
   "cell_type": "markdown",
   "metadata": {},
   "source": [
    "In this design, we need to model the following domain entities as objects:\n",
    " 1. Viruses and infections, responsible for infecting persons.\n",
    " 2. Persons, responsible for being infected, transmitting infections.\n",
    " 3. The Department of Health, responsible for healthcare policymaking.\n",
    " 4. Hospitals, responsible for treating persons and performing tests.\n",
    " \n",
    "We need to model the following processes:\n",
    " 1. Person getting infected by the virus.\n",
    " 2. Person going through a number of states (e.g. healthy - asymptomatic infected - symptomatic infected - recovered).\n",
    " 3. Person getting tested for a speficic type of virus.\n",
    " 4. Person getting hospitalized.\n",
    " 5. Hospital figuring out the treatment for a person based on tests.\n",
    " 6. Department of Health checking for the number of infections, as reported by positive tests.\n",
    " 7. Department of Health establishing a policy (e.g., social distancing, full/partial lockdown, or mandatory wearing masks).\n",
    "\n",
    "We assume the following environmental constraints:\n",
    " - Persons cannot be born during the course of the simulation (but may become dead)\n",
    " - Persons can only have 1 virus (but many antibodies)\n",
    " - Persons may or may not obey the policies of the government\n",
    " - The Department of Health does not penalize persons for not obeying the policies"
   ]
  },
  {
   "cell_type": "markdown",
   "metadata": {},
   "source": [
    "**The purpose of this part of the practical** is to figure out the preliminary design of such a system. "
   ]
  },
  {
   "cell_type": "markdown",
   "metadata": {},
   "source": [
    "---"
   ]
  },
  {
   "cell_type": "markdown",
   "metadata": {},
   "source": [
    "### 1. Model viruses/infections"
   ]
  },
  {
   "cell_type": "markdown",
   "metadata": {},
   "source": [
    "Define the abstract class `Infectable` with a method `infect`. \n",
    " 1. Model the virus \"strength\", i.e. the ability of the virus to cause more severe symptoms.\n",
    " 2. Model the virus \"contagiousness\", i.e. the ability of the virus to transmit from person to person."
   ]
  },
  {
   "cell_type": "code",
   "execution_count": 44,
   "metadata": {},
   "outputs": [],
   "source": [
    "from abc import ABC, abstractmethod"
   ]
  },
  {
   "cell_type": "code",
   "execution_count": 141,
   "metadata": {},
   "outputs": [],
   "source": [
    "class Infectable(ABC):\n",
    "    def __init__(self, strength=1.0, contag=1.0):\n",
    "        # contag is for contagiousness so we have less typos\n",
    "        self._strength = strength\n",
    "        self._contag = contag\n",
    "        \n",
    "    @abstractmethod\n",
    "    def infect(self, person):\n",
    "        pass"
   ]
  },
  {
   "cell_type": "code",
   "execution_count": 142,
   "metadata": {},
   "outputs": [],
   "source": [
    "class SeasonalFluVirus(Infectable):\n",
    "    def infect(self, person):\n",
    "        pass"
   ]
  },
  {
   "cell_type": "code",
   "execution_count": 143,
   "metadata": {},
   "outputs": [],
   "source": [
    "class SARSCoV2(Infectable):\n",
    "    def infect(self, person):\n",
    "        pass"
   ]
  },
  {
   "cell_type": "code",
   "execution_count": 144,
   "metadata": {},
   "outputs": [],
   "source": [
    "class Cholera(Infectable):\n",
    "    def infect(self, person):\n",
    "        pass"
   ]
  },
  {
   "cell_type": "markdown",
   "metadata": {},
   "source": [
    "### 2. Model a person"
   ]
  },
  {
   "cell_type": "markdown",
   "metadata": {},
   "source": [
    "**Task 2.1.:** \n",
    " 1. Use abstraction to identify the possible fields that are relevant to the epidemiologic context.\n",
    " 2. Create interfaces for methods describing person's basic daily activities (e.g., morning trip from home to work, afternoon work, evening trip from work to home, and nightly sleep)\n",
    " 3. Create interfaces for methods describing person's basic interactions. \n",
    " 4. Create implementations for functions where they are obvious."
   ]
  },
  {
   "cell_type": "code",
   "execution_count": 151,
   "metadata": {},
   "outputs": [],
   "source": [
    "class Person:\n",
    "    def __init__(self, home_position=(0, 0), age=30, weight=70):\n",
    "        self._virus = None\n",
    "        self._antibodies = []\n",
    "        self._temperature = 36.6\n",
    "        self.weight = weight\n",
    "        self._water = 0.6 * self.weight\n",
    "        self.age = age\n",
    "        self._home_position = home_position\n",
    "        self.position = home_position\n",
    "    \n",
    "    def day_actions(self):\n",
    "        self.position = (randint(min_j, max_j), randint(min_i, max_i))\n",
    "\n",
    "    def night_actions(self):\n",
    "        self.position = self._home_position\n",
    "\n",
    "    def interact(self, other):\n",
    "        pass\n",
    "\n",
    "    def get_infected(self, virus):\n",
    "        # check if we are not infected\n",
    "        self._virus = virus\n",
    "    \n",
    "    def is_close_to(self, other):\n",
    "        return self.position == other.position\n",
    "    \n",
    "    @property\n",
    "    def temperature(self):\n",
    "        return self._temperature\n",
    "    \n",
    "    @property\n",
    "    def water(self):\n",
    "        return self._water"
   ]
  },
  {
   "cell_type": "markdown",
   "metadata": {},
   "source": [
    "### 3. Model of a hospital"
   ]
  },
  {
   "cell_type": "markdown",
   "metadata": {},
   "source": [
    "**Task 3.1.:** \n",
    " 1. Use abstraction to identify the possible Hospital fields that are relevant to the epidemiologic context.\n",
    " 2. Create interfaces for methods responsible for Hospital basic daily activities (e.g., identifying type of disease and treating patients).\n",
    " 3. Create implementations for functions where they are obvious."
   ]
  },
  {
   "cell_type": "code",
   "execution_count": 93,
   "metadata": {},
   "outputs": [],
   "source": [
    "class Hospital:\n",
    "    def __init__(self, capacity):\n",
    "        self._capacity = capacity\n",
    "        self._persons = []\n",
    "    \n",
    "    def treat_person(self, person):\n",
    "        pass\n",
    "    \n",
    "    def identify_disease(self, person: Person) -> AbstractVirus:\n",
    "        pass"
   ]
  },
  {
   "cell_type": "markdown",
   "metadata": {},
   "source": [
    "### 4. Model of the Department of Health"
   ]
  },
  {
   "cell_type": "markdown",
   "metadata": {},
   "source": [
    "**Task 4.1.:** \n",
    " 1. Use abstraction to identify the possible Government fields that are relevant to the epidemiologic context.\n",
    " 2. Create interfaces for methods responsible for Government basic daily activities (e.g., identifying type of situation and issuing policies).\n",
    " 3. Create implementations for functions where they are obvious."
   ]
  },
  {
   "cell_type": "code",
   "execution_count": 99,
   "metadata": {},
   "outputs": [],
   "source": [
    "class DepartmentOfHealth:\n",
    "    def __init__(self):\n",
    "        pass\n",
    "    \n",
    "    def monitor_situation(self):\n",
    "        pass\n",
    "    \n",
    "    def issue_policy(self):\n",
    "        pass"
   ]
  },
  {
   "cell_type": "markdown",
   "metadata": {},
   "source": [
    "### 5. Model the world"
   ]
  },
  {
   "cell_type": "markdown",
   "metadata": {},
   "source": [
    "The basic algorithm works on a daily basis.\n",
    " 1. The State counts positive/negative tests from yesterday, decides if they need to introduce the new policies/restrictions.\n",
    " 2. The hospitals treat patients.\n",
    " 3. The new tests are made by random persons and for all persons in hospitals.\n",
    " 4. People do their daily activities and interact, possibly infecting each other.\n",
    " 5. "
   ]
  },
  {
   "cell_type": "code",
   "execution_count": 133,
   "metadata": {},
   "outputs": [],
   "source": [
    "def simulate_day(persons, health_dept, hospitals):\n",
    "    health_dept.monitor_situation()\n",
    "    health_dept.issue_policy()\n",
    "    \n",
    "    for hospital in hospitals:\n",
    "        hospital.treat_patients()\n",
    "    \n",
    "    for person in persons:\n",
    "        person.day_actions()\n",
    "    \n",
    "    for person in persons:\n",
    "        for other in persons:\n",
    "            if person is not other and person.is_close_to(other):\n",
    "                person.interact(other)\n",
    "                \n",
    "    for person in persons:\n",
    "        person.night_actions()"
   ]
  },
  {
   "cell_type": "markdown",
   "metadata": {},
   "source": [
    "We initialise our "
   ]
  },
  {
   "cell_type": "code",
   "execution_count": 139,
   "metadata": {},
   "outputs": [],
   "source": [
    "from random import randint\n",
    "\n",
    "\n",
    "def create_persons(min_j, max_j, min_i, max_i, n_persons):\n",
    "    min_age, max_age = 1, 90\n",
    "    min_weight, max_weight = 30, 120\n",
    "    persons = [\n",
    "        Person(\n",
    "            home_position=(randint(min_j, max_j), randint(min_i, max_i)),\n",
    "            age=randint(min_age, max_age),\n",
    "            weight=randint(min_weight, max_weight),\n",
    "        )\n",
    "        for i in range(n_persons)\n",
    "    ]\n",
    "    return persons\n",
    "\n",
    "\n",
    "def create_department_of_health():\n",
    "    return DepartmentOfHealth()\n",
    "\n",
    "\n",
    "def create_hospitals(n_hospitals):\n",
    "    hospitals = [\n",
    "        Hospital(capacity=100)\n",
    "        for i in range(n_hospitals)\n",
    "    ]\n",
    "    return hospitals\n",
    "\n",
    "\n",
    "def initialize():\n",
    "    # our little country\n",
    "    min_i, max_i = 0, 100\n",
    "    min_j, max_j = 0, 100\n",
    "    \n",
    "    # our citizen    \n",
    "    n_persons = 1000\n",
    "    persons = create_persons(min_j, max_j, min_i, max_i, n_persons)\n",
    "    \n",
    "    # our health department\n",
    "    health_dept = create_department_of_health()\n",
    "    \n",
    "    # our healthcare system\n",
    "    n_hospitals = 4\n",
    "    hospitals = create_hospitals(n_hospitals)\n",
    "\n",
    "    return persons, health_dept, hospitals"
   ]
  },
  {
   "cell_type": "code",
   "execution_count": 137,
   "metadata": {},
   "outputs": [],
   "source": [
    "import tqdm"
   ]
  },
  {
   "cell_type": "code",
   "execution_count": 138,
   "metadata": {},
   "outputs": [
    {
     "name": "stderr",
     "output_type": "stream",
     "text": [
      "100%|██████████| 100/100 [00:28<00:00,  3.47it/s]\n"
     ]
    }
   ],
   "source": [
    "persons, health_dept, hospitals = initialize()\n",
    "\n",
    "for day in tqdm.tqdm(range(100)):\n",
    "    simulate_day(persons, health_dept, hospitals)"
   ]
  },
  {
   "cell_type": "code",
   "execution_count": null,
   "metadata": {},
   "outputs": [],
   "source": []
  },
  {
   "cell_type": "code",
   "execution_count": null,
   "metadata": {},
   "outputs": [],
   "source": []
  }
 ],
 "metadata": {
  "kernelspec": {
   "display_name": "Python 3",
   "language": "python",
   "name": "python3"
  },
  "language_info": {
   "codemirror_mode": {
    "name": "ipython",
    "version": 3
   },
   "file_extension": ".py",
   "mimetype": "text/x-python",
   "name": "python",
   "nbconvert_exporter": "python",
   "pygments_lexer": "ipython3",
   "version": "3.7.2"
  }
 },
 "nbformat": 4,
 "nbformat_minor": 2
}
